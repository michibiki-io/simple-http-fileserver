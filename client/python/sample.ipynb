{
 "cells": [
  {
   "cell_type": "markdown",
   "metadata": {},
   "source": [
    "# Simple HTTP client (認証あり) を使ったファイル取得\n",
    "\n",
    "- ここでは Simple HTTP fileserver の API から python にてファイルを取得する方法を示します\n",
    "\n",
    "## ファイル取得の流れ (Private Repository)\n",
    "\n",
    "1. Simple HTTP fileserver にブラウザでログインし \"Token\" > \"Your Token\" を取得してください\n",
    "2. \"Your Token\" に示されている文字列をコピーし ```SimpleClient``` の引数に設定します(必要なのは初回だけです)\n",
    "3. またJWTトークンを保管しておく場所を決めておきます (このトークンは認証許可を示す大事な token ですので、外部に漏れないように管理をお願いいたします)\n",
    "4. JWTトークンは OneTime トークンなのでプログラムごとに別の保存場所を用意してください"
   ]
  },
  {
   "cell_type": "markdown",
   "metadata": {},
   "source": [
    "## import"
   ]
  },
  {
   "cell_type": "code",
   "execution_count": 11,
   "metadata": {},
   "outputs": [
    {
     "name": "stdout",
     "output_type": "stream",
     "text": [
      "The autoreload extension is already loaded. To reload it, use:\n",
      "  %reload_ext autoreload\n"
     ]
    }
   ],
   "source": [
    "%load_ext autoreload\n",
    "%autoreload 2\n",
    "from simpleclient import SimpleClient\n",
    "import io\n",
    "from PIL import Image\n",
    "import matplotlib.pyplot as plt\n",
    "import time\n",
    "import random\n",
    "from pathlib import Path\n",
    "\n",
    "%matplotlib inline"
   ]
  },
  {
   "cell_type": "markdown",
   "metadata": {},
   "source": [
    "## 各種設定値と SimpleClient の初期化"
   ]
  },
  {
   "cell_type": "code",
   "execution_count": 12,
   "metadata": {},
   "outputs": [],
   "source": [
    "SERVER_URL = \"http://YOUR_SERVER_URL\"\n",
    "YOUR_TOKEN = \"YOUR_TOKEN\"\n",
    "JSON_PATH = \"auth.json\"\n",
    "MAX_SHOW_IMAGE_COUNT = 500\n",
    "\n",
    "client = SimpleClient(url=SERVER_URL, jsonPath=JSON_PATH)"
   ]
  },
  {
   "cell_type": "markdown",
   "metadata": {},
   "source": [
    "## 認証の実施\n",
    "\n",
    "- \"Your token\" を使った初回認証を実施します\n",
    "- 認証に成功すると ```JsonPath``` で指定した場所にサーバーへアクセスするための JWTトークン が保存されます\n",
    "- 認証に失敗する場合は Exception が発生します\n",
    "- 2回目以降は ```JsonPath``` に保存された token を自動的に読み込みます\n",
    "- JWTトークン認証を解除したい場合は ```JsonPath``` に保存されたファイルを削除します"
   ]
  },
  {
   "cell_type": "code",
   "execution_count": 13,
   "metadata": {},
   "outputs": [
    {
     "name": "stdout",
     "output_type": "stream",
     "text": [
      "認証成功\n"
     ]
    }
   ],
   "source": [
    "try:\n",
    "    client.Authorize(YOUR_TOKEN)\n",
    "    print(\"認証成功\")\n",
    "except:\n",
    "    print(\"認証失敗\")"
   ]
  },
  {
   "cell_type": "markdown",
   "metadata": {},
   "source": [
    "## ファイルリクエストの実行とパフォーマンス\n",
    "\n",
    "- 必要なファイルの URL を調べファイル取得リクエストを行います\n",
    "- URL がディレクトリの場合はディレクトリに含まれるファイル一覧が JSON 形式でレスポンスされます\n",
    "- URL がファイルの場合 Byte 列でレスポンスされます\n",
    "- Byte列(画像) は PIL Image によって画像化できます"
   ]
  },
  {
   "cell_type": "code",
   "execution_count": 14,
   "metadata": {},
   "outputs": [],
   "source": [
    "def RequestFile(requestUrl):\n",
    "    execList = 0\n",
    "    execGet = 0\n",
    "\n",
    "    t0 = time.perf_counter()\n",
    "    try:\n",
    "        response = client.Request(requestUrl)\n",
    "        t1 = time.perf_counter()\n",
    "        execList += t1 - t0\n",
    "    except Exception as e:\n",
    "        print(e)\n",
    "        exit(0)\n",
    "\n",
    "    if \"list\" in response:\n",
    "        count = 0\n",
    "        files = list(filter(lambda x: not x[\"isDir\"], response[\"list\"]))\n",
    "        if len(files) > MAX_SHOW_IMAGE_COUNT:\n",
    "            files = random.sample(files, MAX_SHOW_IMAGE_COUNT)\n",
    "        for file in files:\n",
    "            if not file[\"isDir\"]:\n",
    "                t2 = time.perf_counter()\n",
    "                inputImage = Image.open(client.Request(requestUrl + file[\"path\"]))\n",
    "                t3 = time.perf_counter()\n",
    "                execGet += (t3 - t2)\n",
    "                #plt.imshow(inputImage)\n",
    "                #plt.show()\n",
    "\n",
    "        print(\"[listall] %d, [get file count] %d, [exec time] get filelist: %f s, get data per image %f s\" % (len(response[\"list\"]), len(files), execList, execGet / len(files)))\n",
    "\n",
    "def ReadFiles(path: Path):\n",
    "    execList = 0\n",
    "    execGet = 0\n",
    "\n",
    "    t0 = time.perf_counter()\n",
    "    files = list(path.glob(\"*\"))\n",
    "    listall = len(files)\n",
    "    t1 = time.perf_counter()\n",
    "    execList += t1 - t0\n",
    "    if len(files) > MAX_SHOW_IMAGE_COUNT:\n",
    "        files = random.sample(files, MAX_SHOW_IMAGE_COUNT)\n",
    "    for file in files:\n",
    "        if file.exists():\n",
    "            t2 = time.perf_counter()\n",
    "            _ = Image.open(str(file))\n",
    "            t3 = time.perf_counter()\n",
    "            execGet += (t3 - t2)\n",
    "            #plt.imshow(inputImage)\n",
    "            #plt.show()\n",
    "    \n",
    "    print(\"[listall] %d, [get file count] %d, [exec time] get filelist: %f s, get data per image %f s\" % (listall, len(files), execList, execGet / len(files)))\n"
   ]
  },
  {
   "cell_type": "markdown",
   "metadata": {},
   "source": [
    "### 認証不要の場合"
   ]
  },
  {
   "cell_type": "code",
   "execution_count": 15,
   "metadata": {},
   "outputs": [
    {
     "name": "stdout",
     "output_type": "stream",
     "text": [
      "[listall] 5000, [get file count] 500, [exec time] get filelist: 0.206407 s, get data per image 0.012483 s\n"
     ]
    }
   ],
   "source": [
    "requestUrl = \"http://YOUR_PUBLIC_REQUEST_URL\"\n",
    "RequestFile(requestUrl)"
   ]
  },
  {
   "cell_type": "markdown",
   "metadata": {},
   "source": [
    "### 認証が必要な場合"
   ]
  },
  {
   "cell_type": "code",
   "execution_count": 16,
   "metadata": {},
   "outputs": [
    {
     "name": "stdout",
     "output_type": "stream",
     "text": [
      "[listall] 5000, [get file count] 500, [exec time] get filelist: 0.141354 s, get data per image 0.049660 s\n"
     ]
    }
   ],
   "source": [
    "requestUrl = \"http://YOUR_PRIVATE_REQUEST_URL\"\n",
    "RequestFile(requestUrl)"
   ]
  },
  {
   "cell_type": "markdown",
   "metadata": {},
   "source": [
    "直接読み込みの場合 ( Path.glob )"
   ]
  },
  {
   "cell_type": "code",
   "execution_count": 17,
   "metadata": {},
   "outputs": [
    {
     "name": "stdout",
     "output_type": "stream",
     "text": [
      "[listall] 5000, [get file count] 500, [exec time] get filelist: 0.047707 s, get data per image 0.001111 s\n"
     ]
    }
   ],
   "source": [
    "ReadFiles(Path(\"LOCAL_PATH\"))"
   ]
  },
  {
   "cell_type": "markdown",
   "metadata": {},
   "source": [
    "|アクセス形態|アクセス時間(1ファイル)|比率|\n",
    "|:-:|--:|--:|\n",
    "|直接Mount(Path.glob)|0.000917 (s)|1|\n",
    "|認証不要(Public)|0.0160 (s)|17.5|\n",
    "|認証必要(Private)|0.0485 (s)|52.9|"
   ]
  }
 ],
 "metadata": {
  "interpreter": {
   "hash": "767d51c1340bd893661ea55ea3124f6de3c7a262a8b4abca0554b478b1e2ff90"
  },
  "kernelspec": {
   "display_name": "Python 3.7.5 64-bit",
   "name": "python3"
  },
  "language_info": {
   "codemirror_mode": {
    "name": "ipython",
    "version": 3
   },
   "file_extension": ".py",
   "mimetype": "text/x-python",
   "name": "python",
   "nbconvert_exporter": "python",
   "pygments_lexer": "ipython3",
   "version": "3.7.5"
  },
  "orig_nbformat": 4
 },
 "nbformat": 4,
 "nbformat_minor": 2
}
